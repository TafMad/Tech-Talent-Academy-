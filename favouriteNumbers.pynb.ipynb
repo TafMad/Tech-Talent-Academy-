{
 "cells": [
  {
   "cell_type": "markdown",
   "metadata": {},
   "source": []
  },
  {
   "cell_type": "code",
   "execution_count": 25,
   "metadata": {},
   "outputs": [
    {
     "ename": "SyntaxError",
     "evalue": "invalid syntax (Temp/ipykernel_9348/3833866289.py, line 3)",
     "output_type": "error",
     "traceback": [
      "\u001b[1;36m  File \u001b[1;32m\"C:\\Users\\taffy\\AppData\\Local\\Temp/ipykernel_9348/3833866289.py\"\u001b[1;36m, line \u001b[1;32m3\u001b[0m\n\u001b[1;33m    if favourite_Number is <0 or >100:\u001b[0m\n\u001b[1;37m                           ^\u001b[0m\n\u001b[1;31mSyntaxError\u001b[0m\u001b[1;31m:\u001b[0m invalid syntax\n"
     ]
    }
   ],
   "source": [
    "favourite_Number=int (input(\"What is your favourite number that is between 1 and 100\"))\n",
    "good_F=69\n",
    "if favourite_Number is <0 or >100:\n",
    "    print(\"out of range \")\n",
    "\n",
    "     if favourite_Number==good_F:\n",
    "         print(\"You lucky person,thats great number and a sex position lol\")\n",
    "     elif favourite_Number==85:\n",
    "          print(\"thats is the age you will be come a millionare,but too old to notice lol\")\n",
    "else:\n",
    "     print(\"try a better favourite number,you can do better\")\n",
    " \n"
   ]
  }
 ],
 "metadata": {
  "interpreter": {
   "hash": "651d9a5f0223e4f95a5992421e229d2e2e7b69a19fd73de4a2d772b550f6e432"
  },
  "kernelspec": {
   "display_name": "Python 3.8.5 32-bit",
   "name": "python3"
  },
  "language_info": {
   "codemirror_mode": {
    "name": "ipython",
    "version": 3
   },
   "file_extension": ".py",
   "mimetype": "text/x-python",
   "name": "python",
   "nbconvert_exporter": "python",
   "pygments_lexer": "ipython3",
   "version": "3.8.5"
  },
  "orig_nbformat": 4
 },
 "nbformat": 4,
 "nbformat_minor": 2
}
